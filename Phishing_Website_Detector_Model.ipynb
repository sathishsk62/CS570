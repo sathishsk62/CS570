{
  "nbformat": 4,
  "nbformat_minor": 0,
  "metadata": {
    "colab": {
      "provenance": [],
      "gpuType": "T4"
    },
    "kernelspec": {
      "name": "python3",
      "display_name": "Python 3"
    },
    "language_info": {
      "name": "python"
    },
    "accelerator": "GPU"
  },
  "cells": [
    {
      "cell_type": "markdown",
      "source": [
        "**Loading Dataset**"
      ],
      "metadata": {
        "id": "TP46cMogPjU3"
      }
    },
    {
      "cell_type": "code",
      "execution_count": 1,
      "metadata": {
        "colab": {
          "base_uri": "https://localhost:8080/"
        },
        "id": "5Bpxwgq-HwwJ",
        "outputId": "59b5a2f3-32eb-48ab-ad6f-778462192e3a"
      },
      "outputs": [
        {
          "output_type": "stream",
          "name": "stdout",
          "text": [
            "Collecting ucimlrepo\n",
            "  Downloading ucimlrepo-0.0.6-py3-none-any.whl (8.0 kB)\n",
            "Installing collected packages: ucimlrepo\n",
            "Successfully installed ucimlrepo-0.0.6\n"
          ]
        }
      ],
      "source": [
        "!pip install ucimlrepo\n",
        "from ucimlrepo import fetch_ucirepo"
      ]
    },
    {
      "cell_type": "code",
      "source": [
        "import requests\n",
        "from urllib.parse import urlparse\n",
        "from bs4 import BeautifulSoup\n",
        "import re\n",
        "import string\n",
        "import numpy as np\n",
        "import pandas as pd\n",
        "import matplotlib.pyplot as plt\n",
        "import seaborn as sns\n",
        "from sklearn.model_selection import train_test_split\n",
        "from sklearn.metrics import confusion_matrix, accuracy_score, f1_score, recall_score\n",
        "from sklearn.preprocessing import OneHotEncoder, StandardScaler\n",
        "from tensorflow.keras.models import Sequential\n",
        "from tensorflow.keras.layers import Dense, Conv1D, MaxPooling1D, LSTM, Dropout, Flatten\n",
        "\n",
        "def extract_features(url):\n",
        "    # Initialize the feature dictionary\n",
        "    features = {}\n",
        "\n",
        "    # Extract URL features\n",
        "    features['URL'] = url\n",
        "    parsed_url = urlparse(url)\n",
        "    features['Domain'] = parsed_url.netloc\n",
        "    features['TLD'] = parsed_url.netloc.split('.')[-1]\n",
        "    features['URLLength'] = len(url)\n",
        "\n",
        "    # Fetch webpage content\n",
        "    try:\n",
        "        response = requests.get(url)\n",
        "        html_content = response.text\n",
        "        soup = BeautifulSoup(html_content, 'html.parser')\n",
        "    except:\n",
        "        # If unable to fetch webpage content, return None for all features\n",
        "        for feature in categorical_features + numerical_features:\n",
        "            features[feature] = None\n",
        "        return features\n",
        "\n",
        "    # Extract Title\n",
        "    title = soup.title\n",
        "    features['Title'] = title.string if title else None\n",
        "\n",
        "    # Extract numerical features\n",
        "\n",
        "    # Domain length\n",
        "    features['DomainLength'] = len(features['Domain'])\n",
        "\n",
        "    # IsDomainIP\n",
        "    features['IsDomainIP'] = 1 if re.match(r'^\\d{1,3}\\.\\d{1,3}\\.\\d{1,3}\\.\\d{1,3}$', features['Domain']) else 0\n",
        "\n",
        "    # TLD length\n",
        "    features['TLDLength'] = len(features['TLD'])\n",
        "    # Number of subdomains\n",
        "    features['NoOfSubDomain'] = len(parsed_url.netloc.split('.')) - 2  # Subtract 2 for domain and TLD\n",
        "\n",
        "    # Other numerical features (placeholders)\n",
        "    features['HasObfuscation'] = any(x in url for x in ['%', '//', '@'])  # Simple heuristic for obfuscation\n",
        "    features['NoOfLettersInURL'] = sum(c.isalpha() for c in url)\n",
        "    features['LetterRatioInURL'] = features['NoOfLettersInURL'] / len(url)\n",
        "    features['NoOfDegitsInURL'] = sum(c.isdigit() for c in url)\n",
        "    features['DegitRatioInURL'] = features['NoOfDegitsInURL'] / len(url)\n",
        "    features['NoOfEqualsInURL'] = url.count('=')\n",
        "    features['NoOfQMarkInURL'] = url.count('?')\n",
        "    features['NoOfAmpersandInURL'] = url.count('&')\n",
        "    features['NoOfOtherSpecialCharsInURL'] = sum(not c.isalnum() for c in url) - features['NoOfEqualsInURL'] - features['NoOfQMarkInURL'] - features['NoOfAmpersandInURL']\n",
        "    features['SpacialCharRatioInURL'] = features['NoOfOtherSpecialCharsInURL'] / len(url)\n",
        "    features['IsHTTPS'] = 1 if parsed_url.scheme == 'https' else 0\n",
        "\n",
        "    # Feature: Line of Code\n",
        "    features['LineOfCode'] = len(html_content.splitlines())\n",
        "    # Feature: Largest Line Length\n",
        "    features['LargestLineLength'] = max(len(line) for line in html_content.splitlines())\n",
        "    features['HasFavicon'] = bool(soup.find(\"link\", rel=\"shortcut icon\"))\n",
        "    # Feature: Bank, Pay, Crypto (simple keywords in text)\n",
        "    text = soup.get_text().lower()\n",
        "    features['Bank'] = 'bank' in text\n",
        "    features['Pay'] = 'pay' in text\n",
        "    features['Crypto'] = 'crypto' in text\n",
        "    features['NoOfImage'] = len(soup.find_all('img'))\n",
        "    features['NoOfCSS'] = len(soup.find_all('link', {'rel': 'stylesheet'}))\n",
        "    features['NoOfJS'] = len(soup.find_all('script', {'src': True}))\n",
        "    features['NoOfSelfRef'] = len(soup.find_all(href=re.compile(url)))\n",
        "    # Feature: Number of Empty References\n",
        "    features['NoOfEmptyRef'] = len([a for a in soup.find_all('a', href=True) if a['href'] in ['', '#', 'javascript:void(0);']])\n",
        "    domain = urlparse(url).netloc\n",
        "    features['NoOfExternalRef'] = len([a for a in soup.find_all('a', href=True) if urlparse(a['href']).netloc and urlparse(a['href']).netloc != domain])\n",
        "\n",
        "\n",
        "    # Return the extracted features\n",
        "    return features\n",
        "\n",
        "\n",
        "\n",
        "\n",
        "# Fetch dataset\n",
        "phishing_url_website = fetch_ucirepo(id=967)\n",
        "\n",
        "# Display metadata\n",
        "print(phishing_url_website.metadata)\n",
        "\n",
        "# Display variable information\n",
        "print(phishing_url_website.variables)\n",
        "\n",
        "# Convert features and targets into pandas DataFrame\n",
        "X_df = pd.DataFrame(phishing_url_website.data.features[:10000], columns=phishing_url_website.feature_names)\n",
        "y_df = pd.DataFrame(phishing_url_website.data.targets[:10000], columns=['label'])\n",
        "\n",
        "# Selecting categorical and numerical features\n",
        "categorical_features = ['URL', 'Domain', 'TLD', 'Title']\n",
        "numerical_features = [\n",
        "    'URLLength', 'DomainLength', 'IsDomainIP', 'TLDLength', 'NoOfSubDomain',\n",
        "    'HasObfuscation', 'NoOfLettersInURL', 'LetterRatioInURL', 'NoOfDegitsInURL',\n",
        "    'DegitRatioInURL', 'NoOfEqualsInURL', 'NoOfQMarkInURL', 'NoOfAmpersandInURL',\n",
        "    'NoOfOtherSpecialCharsInURL', 'SpacialCharRatioInURL', 'IsHTTPS', 'LineOfCode',\n",
        "    'LargestLineLength', 'Bank', 'Pay', 'Crypto', 'NoOfImage', 'NoOfCSS', 'NoOfJS',\n",
        "    'NoOfSelfRef', 'NoOfEmptyRef', 'NoOfExternalRef', 'HasFavicon'\n",
        "]\n",
        "\n",
        "\n",
        "\n",
        "\n",
        "\n",
        "\n",
        "\n"
      ],
      "metadata": {
        "colab": {
          "base_uri": "https://localhost:8080/"
        },
        "id": "42N35KLbHyZa",
        "outputId": "a258ac91-9468-46df-d702-e588fe24e8f1"
      },
      "execution_count": 2,
      "outputs": [
        {
          "output_type": "stream",
          "name": "stdout",
          "text": [
            "{'uci_id': 967, 'name': 'PhiUSIIL Phishing URL (Website)', 'repository_url': 'https://archive.ics.uci.edu/dataset/967/phiusiil+phishing+url+dataset', 'data_url': 'https://archive.ics.uci.edu/static/public/967/data.csv', 'abstract': 'PhiUSIIL Phishing URL Dataset is a substantial dataset comprising 134,850 legitimate and 100,945 phishing URLs. Most of the URLs we analyzed, while constructing the dataset, are the latest URLs. Features are extracted from the source code of the webpage and URL. Features such as CharContinuationRate, URLTitleMatchScore, URLCharProb, and TLDLegitimateProb are derived from existing features.', 'area': 'Computer Science', 'tasks': ['Classification'], 'characteristics': ['Tabular'], 'num_instances': 235795, 'num_features': 54, 'feature_types': ['Real', 'Categorical', 'Integer'], 'demographics': [], 'target_col': ['label'], 'index_col': None, 'has_missing_values': 'no', 'missing_values_symbol': None, 'year_of_dataset_creation': 2024, 'last_updated': 'Mon Mar 18 2024', 'dataset_doi': 'https://doi.org/10.1016/j.cose.2023.103545', 'creators': ['Arvind Prasad', 'Shalini Chandra'], 'intro_paper': {'title': 'PhiUSIIL: A diverse security profile empowered phishing URL detection framework based on similarity index and incremental learning', 'authors': 'Arvind Prasad and Shalini Chandra', 'published_in': 'Computers & Security', 'year': 2024, 'url': 'https://doi.org/10.1016/j.cose.2023.103545', 'doi': None}, 'additional_info': {'summary': None, 'purpose': None, 'funded_by': None, 'instances_represent': 'URLs and their corresponding webpages', 'recommended_data_splits': None, 'sensitive_data': None, 'preprocessing_description': None, 'variable_info': 'Column \"FILENAME\" can be ignored.', 'citation': 'Prasad, A., & Chandra, S. (2023). PhiUSIIL: A diverse security profile empowered phishing URL detection framework based on similarity index and incremental learning. Computers & Security, 103545. doi: https://doi.org/10.1016/j.cose.2023.103545'}}\n",
            "                          name     role         type demographic description  \\\n",
            "0                     FILENAME    Other  Categorical        None        None   \n",
            "1                          URL  Feature  Categorical        None        None   \n",
            "2                    URLLength  Feature      Integer        None        None   \n",
            "3                       Domain  Feature  Categorical        None        None   \n",
            "4                 DomainLength  Feature      Integer        None        None   \n",
            "5                   IsDomainIP  Feature      Integer        None        None   \n",
            "6                          TLD  Feature  Categorical        None        None   \n",
            "7           URLSimilarityIndex  Feature      Integer        None        None   \n",
            "8         CharContinuationRate  Feature      Integer        None        None   \n",
            "9            TLDLegitimateProb  Feature   Continuous        None        None   \n",
            "10                 URLCharProb  Feature   Continuous        None        None   \n",
            "11                   TLDLength  Feature      Integer        None        None   \n",
            "12               NoOfSubDomain  Feature      Integer        None        None   \n",
            "13              HasObfuscation  Feature      Integer        None        None   \n",
            "14          NoOfObfuscatedChar  Feature      Integer        None        None   \n",
            "15            ObfuscationRatio  Feature      Integer        None        None   \n",
            "16            NoOfLettersInURL  Feature      Integer        None        None   \n",
            "17            LetterRatioInURL  Feature   Continuous        None        None   \n",
            "18             NoOfDegitsInURL  Feature      Integer        None        None   \n",
            "19             DegitRatioInURL  Feature      Integer        None        None   \n",
            "20             NoOfEqualsInURL  Feature      Integer        None        None   \n",
            "21              NoOfQMarkInURL  Feature      Integer        None        None   \n",
            "22          NoOfAmpersandInURL  Feature      Integer        None        None   \n",
            "23  NoOfOtherSpecialCharsInURL  Feature      Integer        None        None   \n",
            "24       SpacialCharRatioInURL  Feature   Continuous        None        None   \n",
            "25                     IsHTTPS  Feature      Integer        None        None   \n",
            "26                  LineOfCode  Feature      Integer        None        None   \n",
            "27           LargestLineLength  Feature      Integer        None        None   \n",
            "28                    HasTitle  Feature      Integer        None        None   \n",
            "29                       Title  Feature  Categorical        None        None   \n",
            "30       DomainTitleMatchScore  Feature      Integer        None        None   \n",
            "31          URLTitleMatchScore  Feature      Integer        None        None   \n",
            "32                  HasFavicon  Feature      Integer        None        None   \n",
            "33                      Robots  Feature      Integer        None        None   \n",
            "34                IsResponsive  Feature      Integer        None        None   \n",
            "35             NoOfURLRedirect  Feature      Integer        None        None   \n",
            "36            NoOfSelfRedirect  Feature      Integer        None        None   \n",
            "37              HasDescription  Feature      Integer        None        None   \n",
            "38                   NoOfPopup  Feature      Integer        None        None   \n",
            "39                  NoOfiFrame  Feature      Integer        None        None   \n",
            "40       HasExternalFormSubmit  Feature      Integer        None        None   \n",
            "41                HasSocialNet  Feature      Integer        None        None   \n",
            "42             HasSubmitButton  Feature      Integer        None        None   \n",
            "43             HasHiddenFields  Feature      Integer        None        None   \n",
            "44            HasPasswordField  Feature      Integer        None        None   \n",
            "45                        Bank  Feature      Integer        None        None   \n",
            "46                         Pay  Feature      Integer        None        None   \n",
            "47                      Crypto  Feature      Integer        None        None   \n",
            "48            HasCopyrightInfo  Feature      Integer        None        None   \n",
            "49                   NoOfImage  Feature      Integer        None        None   \n",
            "50                     NoOfCSS  Feature      Integer        None        None   \n",
            "51                      NoOfJS  Feature      Integer        None        None   \n",
            "52                 NoOfSelfRef  Feature      Integer        None        None   \n",
            "53                NoOfEmptyRef  Feature      Integer        None        None   \n",
            "54             NoOfExternalRef  Feature      Integer        None        None   \n",
            "55                       label   Target      Integer        None        None   \n",
            "\n",
            "   units missing_values  \n",
            "0   None             no  \n",
            "1   None             no  \n",
            "2   None             no  \n",
            "3   None             no  \n",
            "4   None             no  \n",
            "5   None             no  \n",
            "6   None             no  \n",
            "7   None             no  \n",
            "8   None             no  \n",
            "9   None             no  \n",
            "10  None             no  \n",
            "11  None             no  \n",
            "12  None             no  \n",
            "13  None             no  \n",
            "14  None             no  \n",
            "15  None             no  \n",
            "16  None             no  \n",
            "17  None             no  \n",
            "18  None             no  \n",
            "19  None             no  \n",
            "20  None             no  \n",
            "21  None             no  \n",
            "22  None             no  \n",
            "23  None             no  \n",
            "24  None             no  \n",
            "25  None             no  \n",
            "26  None             no  \n",
            "27  None             no  \n",
            "28  None             no  \n",
            "29  None             no  \n",
            "30  None             no  \n",
            "31  None             no  \n",
            "32  None             no  \n",
            "33  None             no  \n",
            "34  None             no  \n",
            "35  None             no  \n",
            "36  None             no  \n",
            "37  None             no  \n",
            "38  None             no  \n",
            "39  None             no  \n",
            "40  None             no  \n",
            "41  None             no  \n",
            "42  None             no  \n",
            "43  None             no  \n",
            "44  None             no  \n",
            "45  None             no  \n",
            "46  None             no  \n",
            "47  None             no  \n",
            "48  None             no  \n",
            "49  None             no  \n",
            "50  None             no  \n",
            "51  None             no  \n",
            "52  None             no  \n",
            "53  None             no  \n",
            "54  None             no  \n",
            "55  None             no  \n"
          ]
        }
      ]
    },
    {
      "cell_type": "markdown",
      "source": [
        "**Normalizing Dataset**"
      ],
      "metadata": {
        "id": "qh3_AnRMS2ln"
      }
    },
    {
      "cell_type": "code",
      "source": [
        "# Encoding categorical data\n",
        "encoder = OneHotEncoder()\n",
        "X_categorical = X_df[categorical_features]\n",
        "X_categorical_encoded = encoder.fit_transform(X_categorical)\n",
        "\n",
        "# Normalizing numerical data\n",
        "scaler = StandardScaler()\n",
        "X_numerical = X_df[numerical_features]\n",
        "X_numerical_normalized = scaler.fit_transform(X_numerical)\n",
        "\n",
        "# Combine encoded categorical data and normalized numerical data\n",
        "X_processed = np.concatenate((X_categorical_encoded.toarray(), X_numerical_normalized), axis=1)\n",
        "\n",
        "# Splitting data into training, validation, and test sets\n",
        "X_train_val, X_test, y_train_val, y_test = train_test_split(X_processed, y_df, test_size=0.2, random_state=42)\n",
        "X_train, X_val, y_train, y_val = train_test_split(X_train_val, y_train_val, test_size=0.25, random_state=42)\n",
        "\n"
      ],
      "metadata": {
        "id": "vHxpfpxkS7PX"
      },
      "execution_count": 3,
      "outputs": []
    },
    {
      "cell_type": "markdown",
      "source": [
        "**Building Model**"
      ],
      "metadata": {
        "id": "vqJwul8ATJTt"
      }
    },
    {
      "cell_type": "code",
      "source": [
        "# Reshape data for Conv1D layer\n",
        "X_train_conv = X_train.reshape((X_train.shape[0], X_train.shape[1], 1))\n",
        "X_val_conv = X_val.reshape((X_val.shape[0], X_val.shape[1], 1))\n",
        "\n",
        "# Build the model\n",
        "model = Sequential()\n",
        "\n",
        "# Convolutional layers\n",
        "model.add(Conv1D(filters=64, kernel_size=3, activation='relu', input_shape=(X_train_conv.shape[1], 1)))\n",
        "model.add(MaxPooling1D(pool_size=2))\n",
        "model.add(Conv1D(filters=32, kernel_size=3, activation='relu'))\n",
        "model.add(MaxPooling1D(pool_size=2))\n",
        "\n",
        "# LSTM layer\n",
        "model.add(LSTM(50))\n",
        "\n",
        "# Dense layers\n",
        "model.add(Dense(32, activation='relu'))\n",
        "model.add(Dropout(0.5))\n",
        "model.add(Dense(1, activation='sigmoid'))\n",
        "\n",
        "# Compile the model\n",
        "model.compile(optimizer='adam', loss='binary_crossentropy', metrics=['accuracy'])\n",
        "\n",
        "# Train the model\n",
        "history = model.fit(X_train_conv, y_train, epochs=10, batch_size=64, validation_data=(X_val_conv, y_val), verbose=1)\n",
        "\n",
        "# Plot training history\n",
        "plt.plot(history.history['accuracy'], label='accuracy')\n",
        "plt.plot(history.history['val_accuracy'], label='val_accuracy')\n",
        "plt.xlabel('Epoch')\n",
        "plt.ylabel('Accuracy')\n",
        "plt.legend()\n",
        "plt.show()\n"
      ],
      "metadata": {
        "colab": {
          "base_uri": "https://localhost:8080/",
          "height": 573
        },
        "id": "105PHa3LTNRV",
        "outputId": "e1ac4acb-e4a8-40f2-88bf-13f3a2d3e84f"
      },
      "execution_count": 4,
      "outputs": [
        {
          "output_type": "stream",
          "name": "stdout",
          "text": [
            "Epoch 1/3\n",
            "94/94 [==============================] - 40s 351ms/step - loss: 0.3366 - accuracy: 0.8695 - val_loss: 0.0892 - val_accuracy: 0.9760\n",
            "Epoch 2/3\n",
            "94/94 [==============================] - 31s 329ms/step - loss: 0.0628 - accuracy: 0.9838 - val_loss: 0.0344 - val_accuracy: 0.9870\n",
            "Epoch 3/3\n",
            "94/94 [==============================] - 31s 329ms/step - loss: 0.0283 - accuracy: 0.9925 - val_loss: 0.0152 - val_accuracy: 0.9935\n"
          ]
        },
        {
          "output_type": "display_data",
          "data": {
            "text/plain": [
              "<Figure size 640x480 with 1 Axes>"
            ],
            "image/png": "[encoded data removed]"
          },
          "metadata": {}
        }
      ]
    },
    {
      "cell_type": "markdown",
      "source": [
        "**Evaluation on validation dataset**"
      ],
      "metadata": {
        "id": "nFfJAskQR9-P"
      }
    },
    {
      "cell_type": "code",
      "source": [
        "# Evaluate on validation set\n",
        "y_pred_proba = model.predict(X_val_conv)\n",
        "y_pred = (y_pred_proba > 0.5).astype(int)\n",
        "\n",
        "# Calculate confusion matrix\n",
        "conf_matrix = confusion_matrix(y_val, y_pred)\n",
        "\n",
        "# Plot confusion matrix\n",
        "plt.figure(figsize=(8, 6))\n",
        "sns.heatmap(conf_matrix, annot=True, cmap='Blues', fmt='g', cbar=False)\n",
        "plt.xlabel('Predicted labels')\n",
        "plt.ylabel('True labels')\n",
        "plt.title('Confusion Matrix')\n",
        "plt.show()\n",
        "\n",
        "# Evaluate the model's performance on the test set\n",
        "X_test_conv = X_test.reshape((X_test.shape[0], X_test.shape[1], 1))\n",
        "y_test_pred = (model.predict(X_test_conv) > 0.5).astype(int)\n",
        "test_accuracy = accuracy_score(y_test, y_test_pred)\n",
        "test_f1 = f1_score(y_test, y_test_pred)\n",
        "test_recall = recall_score(y_test, y_test_pred)\n",
        "\n",
        "print(\"Test Metrics:\")\n",
        "print(\"Accuracy:\", test_accuracy)\n",
        "print(\"F1 Score:\", test_f1)\n",
        "print(\"Recall:\", test_recall)"
      ],
      "metadata": {
        "colab": {
          "base_uri": "https://localhost:8080/",
          "height": 668
        },
        "id": "OzP1hAP1SFLp",
        "outputId": "681d3877-214e-4065-8dd3-25287bc01ff1"
      },
      "execution_count": 5,
      "outputs": [
        {
          "output_type": "stream",
          "name": "stdout",
          "text": [
            "63/63 [==============================] - 8s 110ms/step\n"
          ]
        },
        {
          "output_type": "display_data",
          "data": {
            "text/plain": [
              "<Figure size 800x600 with 1 Axes>"
            ],
            "image/png": "[encoded data removed]"
          },
          "metadata": {}
        },
        {
          "output_type": "stream",
          "name": "stdout",
          "text": [
            "63/63 [==============================] - 6s 100ms/step\n",
            "Test Metrics:\n",
            "Accuracy: 0.994\n",
            "F1 Score: 0.9950413223140496\n",
            "Recall: 0.9950413223140496\n"
          ]
        }
      ]
    },
    {
      "cell_type": "markdown",
      "source": [
        "**Testing on websites**"
      ],
      "metadata": {
        "id": "Ed0xVMnxRsu0"
      }
    },
    {
      "cell_type": "code",
      "source": [
        "# Define a function to preprocess and evaluate a URL\n",
        "def evaluate_website(url, model):\n",
        "    # Extract features\n",
        "    features = extract_features(url)\n",
        "\n",
        "    # Convert features to DataFrame\n",
        "    features_df = pd.DataFrame([features])\n",
        "\n",
        "    # Define the list of categorical and numerical features for website evaluation\n",
        "    categorical_features_eval = ['URL', 'Domain', 'TLD', 'Title']\n",
        "    numerical_features_eval = [\n",
        "    'URLLength', 'DomainLength', 'IsDomainIP', 'TLDLength', 'NoOfSubDomain',\n",
        "    'HasObfuscation', 'NoOfLettersInURL', 'LetterRatioInURL', 'NoOfDegitsInURL',\n",
        "    'DegitRatioInURL', 'NoOfEqualsInURL', 'NoOfQMarkInURL', 'NoOfAmpersandInURL',\n",
        "    'NoOfOtherSpecialCharsInURL', 'SpacialCharRatioInURL', 'IsHTTPS', 'LineOfCode',\n",
        "    'LargestLineLength', 'Bank', 'Pay', 'Crypto', 'NoOfImage', 'NoOfCSS', 'NoOfJS',\n",
        "    'NoOfSelfRef', 'NoOfEmptyRef', 'NoOfExternalRef', 'HasFavicon'\n",
        "]\n",
        "\n",
        "    # Initialize encoded categorical features with zeros\n",
        "    X_categorical_encoded = np.zeros((features_df.shape[0], len(encoder.categories_)), dtype=int)\n",
        "\n",
        "    # Encode categorical data if present\n",
        "    for i, feature in enumerate(categorical_features_eval):\n",
        "        if feature in encoder.get_feature_names_out():\n",
        "            feature_index = list(encoder.get_feature_names_out()).index(feature)\n",
        "            category = features_df[feature].iloc[0]\n",
        "            if category in encoder.categories_[i]:\n",
        "                category_index = list(encoder.categories_[i]).index(category)\n",
        "                X_categorical_encoded[0, feature_index + category_index] = 1\n",
        "\n",
        "    # Normalize numerical data\n",
        "    X_numerical = features_df[numerical_features_eval]\n",
        "    X_numerical_normalized = scaler.transform(X_numerical)\n",
        "\n",
        "    # Combine encoded categorical data and normalized numerical data\n",
        "    X_processed = np.concatenate((X_categorical_encoded, X_numerical_normalized), axis=1)\n",
        "\n",
        "    # Reshape data for Conv1D layer\n",
        "    X_processed_conv = X_processed.reshape((X_processed.shape[0], X_processed.shape[1], 1))\n",
        "\n",
        "    # Predict using the model\n",
        "    prediction_proba = model.predict(X_processed_conv)\n",
        "    prediction = (prediction_proba > 0.5).astype(int)\n",
        "\n",
        "    # Return the prediction\n",
        "    return prediction[0][0], prediction_proba[0][0]\n",
        "    # Extract features\n",
        "    features = extract_features(url)\n",
        "\n",
        "    # Convert features to DataFrame\n",
        "    features_df = pd.DataFrame([features])\n",
        "\n",
        "    # Initialize encoded categorical features with zeros\n",
        "    X_categorical_encoded = np.zeros((features_df.shape[0], len(encoder.categories_)), dtype=int)\n",
        "\n",
        "    # Encode categorical data if present\n",
        "    for i, feature in enumerate(categorical_features_eval):\n",
        "        if feature in encoder.get_feature_names_out():\n",
        "            feature_index = list(encoder.get_feature_names_out()).index(feature)\n",
        "            category = features_df[feature].iloc[0]\n",
        "            if category in encoder.categories_[i]:\n",
        "                category_index = list(encoder.categories_[i]).index(category)\n",
        "                X_categorical_encoded[0, feature_index + category_index] = 1\n",
        "\n",
        "    # Normalize numerical data\n",
        "    X_numerical = features_df[numerical_features_eval]\n",
        "    X_numerical_normalized = scaler.transform(X_numerical)\n",
        "\n",
        "    # Combine encoded categorical data and normalized numerical data\n",
        "    X_processed = np.concatenate((X_categorical_encoded, X_numerical_normalized), axis=1)\n",
        "\n",
        "    # Reshape data for Conv1D layer\n",
        "    X_processed_conv = X_processed.reshape((X_processed.shape[0], X_processed.shape[1], 1))\n",
        "\n",
        "    # Predict using the model\n",
        "    prediction_proba = model.predict(X_processed_conv)\n",
        "    prediction = (prediction_proba > 0.5).astype(int)\n",
        "\n",
        "    # Return the prediction\n",
        "    return prediction[0][0], prediction_proba[0][0]\n",
        "\n",
        "# Example usage:\n",
        "websites = [\"https://www.uni-mainz.de\", \"https://www.journalofwoundcare.com\",\"https://caniphish.com/free-phishing-test/phishing-website-templates#signupForm\", \"https://thekickasstorrents.com/\"]\n",
        "\n",
        "for website in websites:\n",
        "    prediction, confidence = evaluate_website(website, model)\n",
        "    print(\"Website:\", website)\n",
        "    print(\"Prediction:\", \"Phishing\" if prediction == 1 else \"Legitimate\")\n",
        "    print(\"Confidence:\", confidence)\n",
        "    print()"
      ],
      "metadata": {
        "colab": {
          "base_uri": "https://localhost:8080/"
        },
        "id": "Gz5h181WRq3Z",
        "outputId": "ca89cac7-7ca4-44eb-a8ca-3277152a130f"
      },
      "execution_count": 8,
      "outputs": [
        {
          "output_type": "stream",
          "name": "stdout",
          "text": [
            "1/1 [==============================] - 0s 26ms/step\n",
            "Website: https://www.uni-mainz.de\n",
            "Prediction: Phishing\n",
            "Confidence: 0.8114302\n",
            "\n",
            "1/1 [==============================] - 0s 19ms/step\n",
            "Website: https://www.journalofwoundcare.com\n",
            "Prediction: Legitimate\n",
            "Confidence: 0.0010995688\n",
            "\n",
            "1/1 [==============================] - 0s 18ms/step\n",
            "Website: https://caniphish.com/free-phishing-test/phishing-website-templates#signupForm\n",
            "Prediction: Legitimate\n",
            "Confidence: 0.024485167\n",
            "\n",
            "1/1 [==============================] - 0s 20ms/step\n",
            "Website: https://thekickasstorrents.com/\n",
            "Prediction: Legitimate\n",
            "Confidence: 0.00034976623\n",
            "\n"
          ]
        }
      ]
    },
    {
      "cell_type": "code",
      "source": [],
      "metadata": {
        "id": "tpqr-oGzH_GQ"
      },
      "execution_count": null,
      "outputs": []
    }
  ]
}